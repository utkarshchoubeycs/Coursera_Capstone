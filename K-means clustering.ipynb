{
    "cells": [
        {
            "cell_type": "markdown",
            "metadata": {
                "collapsed": true
            },
            "source": "## This is my first clustering Assignment."
        },
        {
            "cell_type": "markdown",
            "metadata": {},
            "source": "Importing Libraries"
        },
        {
            "cell_type": "code",
            "execution_count": 1,
            "metadata": {},
            "outputs": [],
            "source": "import pandas as pd\nimport numpy as np"
        },
        {
            "cell_type": "code",
            "execution_count": 8,
            "metadata": {},
            "outputs": [],
            "source": "url = 'https://en.wikipedia.org/wiki/List_of_postal_codes_of_Canada:_M'\ndfs = pd.read_html(url)\ndf1 = dfs[0]\ndf = df1[['Postal Code','Borough','Neighborhood']]"
        },
        {
            "cell_type": "markdown",
            "metadata": {},
            "source": "Pre-Processing Data\n\nReplacing 'Not assigned' with np.nan in borough column\nDroping cells with np.nan value in borough column "
        },
        {
            "cell_type": "code",
            "execution_count": 9,
            "metadata": {},
            "outputs": [],
            "source": "df['Borough'].replace('Not assigned', np.nan,inplace = True)\ndf.dropna(inplace = True)"
        },
        {
            "cell_type": "markdown",
            "metadata": {},
            "source": "Replacing Neighborhood 'Not assigned' values to its corrosponding borough value."
        },
        {
            "cell_type": "code",
            "execution_count": 10,
            "metadata": {},
            "outputs": [
                {
                    "data": {
                        "text/plain": "2                                              Parkwoods\n3                                       Victoria Village\n4                              Regent Park, Harbourfront\n5                       Lawrence Manor, Lawrence Heights\n6            Queen's Park, Ontario Provincial Government\n8                Islington Avenue, Humber Valley Village\n9                                         Malvern, Rouge\n11                                             Don Mills\n12                       Parkview Hill, Woodbine Gardens\n13                              Garden District, Ryerson\n14                                             Glencairn\n17     West Deane Park, Princess Gardens, Martin Grov...\n18                Rouge Hill, Port Union, Highland Creek\n20                                             Don Mills\n21                                      Woodbine Heights\n22                                        St. James Town\n23                                    Humewood-Cedarvale\n26     Eringate, Bloordale Gardens, Old Burnhamthorpe...\n27                     Guildwood, Morningside, West Hill\n30                                           The Beaches\n31                                           Berczy Park\n32                                   Caledonia-Fairbanks\n36                                                Woburn\n39                                               Leaside\n40                                    Central Bay Street\n41                                              Christie\n45                                             Cedarbrae\n46                                     Hillcrest Village\n47       Bathurst Manor, Wilson Heights, Downsview North\n48                                      Thorncliffe Park\n                             ...                        \n111                    North Toronto West, Lawrence Park\n112                  The Annex, North Midtown, Yorkville\n113                               Parkdale, Roncesvalles\n114                Canada Post Gateway Processing Centre\n116    Kingsview Village, St. Phillips, Martin Grove ...\n117                                            Agincourt\n120                                           Davisville\n121                       University of Toronto, Harbord\n122                                   Runnymede, Swansea\n126              Clarks Corners, Tam O'Shanter, Sullivan\n129                          Moore Park, Summerhill East\n130            Kensington Market, Chinatown, Grange Park\n135    Milliken, Agincourt North, Steeles East, L'Amo...\n138    Summerhill West, Rathnelly, South Hill, Forest...\n139    CN Tower, King and Spadina, Railway Lands, Har...\n142         New Toronto, Mimico South, Humber Bay Shores\n143    South Steeles, Silverstone, Humbergate, Jamest...\n144                        Steeles West, L'Amoreaux West\n147                                             Rosedale\n148                                       Stn A PO Boxes\n151                               Alderwood, Long Branch\n152                  Northwest, West Humber - Clairville\n153                                          Upper Rouge\n156                          St. James Town, Cabbagetown\n157               First Canadian Place, Underground city\n160        The Kingsway, Montgomery Road, Old Mill North\n165                                 Church and Wellesley\n168    Business reply mail Processing Centre, South C...\n169    Old Mill South, King's Mill Park, Sunnylea, Hu...\n178    Mimico NW, The Queensway West, South of Bloor,...\nName: Neighborhood, Length: 103, dtype: object"
                    },
                    "execution_count": 10,
                    "metadata": {},
                    "output_type": "execute_result"
                }
            ],
            "source": "df['Neighborhood'].replace('Not assigned',df['Borough'])"
        },
        {
            "cell_type": "code",
            "execution_count": 12,
            "metadata": {},
            "outputs": [
                {
                    "data": {
                        "text/plain": "(103, 3)"
                    },
                    "execution_count": 12,
                    "metadata": {},
                    "output_type": "execute_result"
                }
            ],
            "source": "df.shape"
        },
        {
            "cell_type": "code",
            "execution_count": null,
            "metadata": {},
            "outputs": [],
            "source": ""
        }
    ],
    "metadata": {
        "kernelspec": {
            "display_name": "Python 3.6",
            "language": "python",
            "name": "python3"
        },
        "language_info": {
            "codemirror_mode": {
                "name": "ipython",
                "version": 3
            },
            "file_extension": ".py",
            "mimetype": "text/x-python",
            "name": "python",
            "nbconvert_exporter": "python",
            "pygments_lexer": "ipython3",
            "version": "3.6.9"
        }
    },
    "nbformat": 4,
    "nbformat_minor": 1
}